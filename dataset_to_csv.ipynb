{
 "cells": [
  {
   "cell_type": "code",
   "execution_count": 1,
   "id": "170fa52c",
   "metadata": {},
   "outputs": [
    {
     "data": {
      "text/html": [
       "<table class=\"dataframe\">\n",
       "<caption>A data.frame: 6 × 7</caption>\n",
       "<thead>\n",
       "\t<tr><th></th><th scope=col>PATIENT_ID</th><th scope=col>DATE</th><th scope=col>DURATION</th><th scope=col>PERDAY</th><th scope=col>CATEGORY</th><th scope=col>CATEGORY_L1</th><th scope=col>CATEGORY_L2</th></tr>\n",
       "\t<tr><th></th><th scope=col>&lt;dbl&gt;</th><th scope=col>&lt;date&gt;</th><th scope=col>&lt;dbl&gt;</th><th scope=col>&lt;dbl&gt;</th><th scope=col>&lt;chr&gt;</th><th scope=col>&lt;chr&gt;</th><th scope=col>&lt;chr&gt;</th></tr>\n",
       "</thead>\n",
       "<tbody>\n",
       "\t<tr><th scope=row>1</th><td>1</td><td>2057-09-04</td><td>28.00000</td><td>   20</td><td>A02BC02</td><td>ALIMENTARY TRACT AND METABOLISM</td><td>DRUGS FOR ACID RELATED DISORDERS</td></tr>\n",
       "\t<tr><th scope=row>2</th><td>1</td><td>2058-06-03</td><td>28.00000</td><td>   20</td><td>A02BC02</td><td>ALIMENTARY TRACT AND METABOLISM</td><td>DRUGS FOR ACID RELATED DISORDERS</td></tr>\n",
       "\t<tr><th scope=row>3</th><td>1</td><td>2058-07-09</td><td>28.00000</td><td>   20</td><td>A02BC02</td><td>ALIMENTARY TRACT AND METABOLISM</td><td>DRUGS FOR ACID RELATED DISORDERS</td></tr>\n",
       "\t<tr><th scope=row>15</th><td>1</td><td>2056-10-09</td><td>41.66667</td><td>36000</td><td>A09AA02</td><td>ALIMENTARY TRACT AND METABOLISM</td><td>DIGESTIVES, INCL. ENZYMES       </td></tr>\n",
       "\t<tr><th scope=row>16</th><td>1</td><td>2056-12-10</td><td>40.00000</td><td>36000</td><td>A09AA02</td><td>ALIMENTARY TRACT AND METABOLISM</td><td>DIGESTIVES, INCL. ENZYMES       </td></tr>\n",
       "\t<tr><th scope=row>17</th><td>1</td><td>2057-02-12</td><td>11.00000</td><td>36000</td><td>A09AA02</td><td>ALIMENTARY TRACT AND METABOLISM</td><td>DIGESTIVES, INCL. ENZYMES       </td></tr>\n",
       "</tbody>\n",
       "</table>\n"
      ],
      "text/latex": [
       "A data.frame: 6 × 7\n",
       "\\begin{tabular}{r|lllllll}\n",
       "  & PATIENT\\_ID & DATE & DURATION & PERDAY & CATEGORY & CATEGORY\\_L1 & CATEGORY\\_L2\\\\\n",
       "  & <dbl> & <date> & <dbl> & <dbl> & <chr> & <chr> & <chr>\\\\\n",
       "\\hline\n",
       "\t1 & 1 & 2057-09-04 & 28.00000 &    20 & A02BC02 & ALIMENTARY TRACT AND METABOLISM & DRUGS FOR ACID RELATED DISORDERS\\\\\n",
       "\t2 & 1 & 2058-06-03 & 28.00000 &    20 & A02BC02 & ALIMENTARY TRACT AND METABOLISM & DRUGS FOR ACID RELATED DISORDERS\\\\\n",
       "\t3 & 1 & 2058-07-09 & 28.00000 &    20 & A02BC02 & ALIMENTARY TRACT AND METABOLISM & DRUGS FOR ACID RELATED DISORDERS\\\\\n",
       "\t15 & 1 & 2056-10-09 & 41.66667 & 36000 & A09AA02 & ALIMENTARY TRACT AND METABOLISM & DIGESTIVES, INCL. ENZYMES       \\\\\n",
       "\t16 & 1 & 2056-12-10 & 40.00000 & 36000 & A09AA02 & ALIMENTARY TRACT AND METABOLISM & DIGESTIVES, INCL. ENZYMES       \\\\\n",
       "\t17 & 1 & 2057-02-12 & 11.00000 & 36000 & A09AA02 & ALIMENTARY TRACT AND METABOLISM & DIGESTIVES, INCL. ENZYMES       \\\\\n",
       "\\end{tabular}\n"
      ],
      "text/markdown": [
       "\n",
       "A data.frame: 6 × 7\n",
       "\n",
       "| <!--/--> | PATIENT_ID &lt;dbl&gt; | DATE &lt;date&gt; | DURATION &lt;dbl&gt; | PERDAY &lt;dbl&gt; | CATEGORY &lt;chr&gt; | CATEGORY_L1 &lt;chr&gt; | CATEGORY_L2 &lt;chr&gt; |\n",
       "|---|---|---|---|---|---|---|---|\n",
       "| 1 | 1 | 2057-09-04 | 28.00000 |    20 | A02BC02 | ALIMENTARY TRACT AND METABOLISM | DRUGS FOR ACID RELATED DISORDERS |\n",
       "| 2 | 1 | 2058-06-03 | 28.00000 |    20 | A02BC02 | ALIMENTARY TRACT AND METABOLISM | DRUGS FOR ACID RELATED DISORDERS |\n",
       "| 3 | 1 | 2058-07-09 | 28.00000 |    20 | A02BC02 | ALIMENTARY TRACT AND METABOLISM | DRUGS FOR ACID RELATED DISORDERS |\n",
       "| 15 | 1 | 2056-10-09 | 41.66667 | 36000 | A09AA02 | ALIMENTARY TRACT AND METABOLISM | DIGESTIVES, INCL. ENZYMES        |\n",
       "| 16 | 1 | 2056-12-10 | 40.00000 | 36000 | A09AA02 | ALIMENTARY TRACT AND METABOLISM | DIGESTIVES, INCL. ENZYMES        |\n",
       "| 17 | 1 | 2057-02-12 | 11.00000 | 36000 | A09AA02 | ALIMENTARY TRACT AND METABOLISM | DIGESTIVES, INCL. ENZYMES        |\n",
       "\n"
      ],
      "text/plain": [
       "   PATIENT_ID DATE       DURATION PERDAY CATEGORY\n",
       "1  1          2057-09-04 28.00000    20  A02BC02 \n",
       "2  1          2058-06-03 28.00000    20  A02BC02 \n",
       "3  1          2058-07-09 28.00000    20  A02BC02 \n",
       "15 1          2056-10-09 41.66667 36000  A09AA02 \n",
       "16 1          2056-12-10 40.00000 36000  A09AA02 \n",
       "17 1          2057-02-12 11.00000 36000  A09AA02 \n",
       "   CATEGORY_L1                     CATEGORY_L2                     \n",
       "1  ALIMENTARY TRACT AND METABOLISM DRUGS FOR ACID RELATED DISORDERS\n",
       "2  ALIMENTARY TRACT AND METABOLISM DRUGS FOR ACID RELATED DISORDERS\n",
       "3  ALIMENTARY TRACT AND METABOLISM DRUGS FOR ACID RELATED DISORDERS\n",
       "15 ALIMENTARY TRACT AND METABOLISM DIGESTIVES, INCL. ENZYMES       \n",
       "16 ALIMENTARY TRACT AND METABOLISM DIGESTIVES, INCL. ENZYMES       \n",
       "17 ALIMENTARY TRACT AND METABOLISM DIGESTIVES, INCL. ENZYMES       "
      ]
     },
     "metadata": {},
     "output_type": "display_data"
    }
   ],
   "source": [
    "library(AdhereR)\n",
    "\n",
    "data <- med.events.ATC\n",
    "\n",
    "head(data)"
   ]
  },
  {
   "cell_type": "code",
   "execution_count": 2,
   "id": "9b00a3df",
   "metadata": {},
   "outputs": [],
   "source": [
    "write.csv(data, \"med_events_ATC.csv\", row.names = FALSE)"
   ]
  }
 ],
 "metadata": {
  "kernelspec": {
   "display_name": "R",
   "language": "R",
   "name": "ir"
  },
  "language_info": {
   "codemirror_mode": "r",
   "file_extension": ".r",
   "mimetype": "text/x-r-source",
   "name": "R",
   "pygments_lexer": "r",
   "version": "4.4.2"
  }
 },
 "nbformat": 4,
 "nbformat_minor": 5
}
